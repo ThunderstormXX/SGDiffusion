{
 "cells": [
  {
   "cell_type": "markdown",
   "metadata": {},
   "source": [
    "# Debug: GD Overtraining + SGD with Weight Variance Analysis"
   ]
  },
  {
   "cell_type": "code",
   "execution_count": 1,
   "metadata": {},
   "outputs": [],
   "source": [
    "import os\n",
    "import sys\n",
    "import torch\n",
    "import numpy as np\n",
    "import random\n",
    "import torch.nn as nn\n",
    "import matplotlib.pyplot as plt\n",
    "from tqdm import tqdm\n",
    "\n",
    "sys.path.append(os.path.abspath(os.path.join(os.getcwd(), \"..\")))\n",
    "from src.utils import MNIST\n",
    "from src.model import FlexibleMLP"
   ]
  },
  {
   "cell_type": "code",
   "execution_count": 2,
   "metadata": {},
   "outputs": [
    {
     "name": "stdout",
     "output_type": "stream",
     "text": [
      "Device: cpu\n"
     ]
    }
   ],
   "source": [
    "# Настройки\n",
    "SEED = 228\n",
    "LR = 0.01\n",
    "BATCH_SIZE = 64\n",
    "GD_EPOCHS = 1000000\n",
    "SGD_EPOCHS = 10\n",
    "SAMPLE_SIZE = 1000\n",
    "\n",
    "torch.manual_seed(SEED)\n",
    "np.random.seed(SEED)\n",
    "random.seed(SEED)\n",
    "\n",
    "DEVICE = 'cuda' if torch.cuda.is_available() else 'cpu'\n",
    "print(f\"Device: {DEVICE}\")"
   ]
  },
  {
   "cell_type": "code",
   "execution_count": 3,
   "metadata": {},
   "outputs": [
    {
     "name": "stdout",
     "output_type": "stream",
     "text": [
      "Параметров в модели: 386\n",
      "Полный батч: 960 образцов\n"
     ]
    }
   ],
   "source": [
    "# Загрузка данных\n",
    "train_dataset, test_dataset, train_loader, test_loader = MNIST(\n",
    "    batch_size=BATCH_SIZE, sample_size=SAMPLE_SIZE\n",
    ")\n",
    "\n",
    "# Создаем полный батч для GD\n",
    "all_images = []\n",
    "all_labels = []\n",
    "for images, labels in train_loader:\n",
    "    all_images.append(images)\n",
    "    all_labels.append(labels)\n",
    "full_batch_images = torch.cat(all_images, dim=0).to(DEVICE)\n",
    "full_batch_labels = torch.cat(all_labels, dim=0).to(DEVICE)\n",
    "\n",
    "# Создание модели\n",
    "model = FlexibleMLP(\n",
    "    hidden_dim=8,\n",
    "    num_hidden_layers=1,\n",
    "    input_downsample=6\n",
    ").to(DEVICE)\n",
    "\n",
    "criterion = nn.CrossEntropyLoss()\n",
    "\n",
    "print(f\"Параметров в модели: {sum(p.numel() for p in model.parameters())}\")\n",
    "print(f\"Полный батч: {full_batch_images.shape[0]} образцов\")"
   ]
  },
  {
   "cell_type": "code",
   "execution_count": 4,
   "metadata": {},
   "outputs": [],
   "source": [
    "def vectorize_model(model):\n",
    "    params = []\n",
    "    for p in model.parameters():\n",
    "        params.append(p.data.view(-1))\n",
    "    return torch.cat(params).cpu().numpy()\n",
    "\n",
    "def check_param_changes(params_before, params_after):\n",
    "    diff = np.abs(params_after - params_before)\n",
    "    return {\n",
    "        'max_change': diff.max(),\n",
    "        'mean_change': diff.mean(),\n",
    "        'changed': (diff > 1e-8).any()\n",
    "    }"
   ]
  },
  {
   "cell_type": "code",
   "execution_count": 5,
   "metadata": {},
   "outputs": [
    {
     "name": "stdout",
     "output_type": "stream",
     "text": [
      "🚀 Этап 1: GD переобучение...\n"
     ]
    },
    {
     "name": "stderr",
     "output_type": "stream",
     "text": [
      "GD Overtraining:   0%|          | 0/1000000 [00:00<?, ?it/s]"
     ]
    },
    {
     "name": "stderr",
     "output_type": "stream",
     "text": [
      "GD Overtraining:   5%|▌         | 50768/1000000 [00:14<04:08, 3825.34it/s]"
     ]
    },
    {
     "name": "stdout",
     "output_type": "stream",
     "text": [
      "GD Эпоха 50000: loss = 0.4792\n"
     ]
    },
    {
     "name": "stderr",
     "output_type": "stream",
     "text": [
      "GD Overtraining:  10%|█         | 100478/1000000 [00:27<03:57, 3789.15it/s]"
     ]
    },
    {
     "name": "stdout",
     "output_type": "stream",
     "text": [
      "GD Эпоха 100000: loss = 0.4105\n"
     ]
    },
    {
     "name": "stderr",
     "output_type": "stream",
     "text": [
      "GD Overtraining:  15%|█▌        | 150645/1000000 [00:40<03:46, 3744.33it/s]"
     ]
    },
    {
     "name": "stdout",
     "output_type": "stream",
     "text": [
      "GD Эпоха 150000: loss = 0.3781\n"
     ]
    },
    {
     "name": "stderr",
     "output_type": "stream",
     "text": [
      "GD Overtraining:  20%|██        | 200682/1000000 [00:53<03:29, 3818.22it/s]"
     ]
    },
    {
     "name": "stdout",
     "output_type": "stream",
     "text": [
      "GD Эпоха 200000: loss = 0.3557\n"
     ]
    },
    {
     "name": "stderr",
     "output_type": "stream",
     "text": [
      "GD Overtraining:  25%|██▌       | 250424/1000000 [01:07<03:24, 3659.06it/s]"
     ]
    },
    {
     "name": "stdout",
     "output_type": "stream",
     "text": [
      "GD Эпоха 250000: loss = 0.3352\n"
     ]
    },
    {
     "name": "stderr",
     "output_type": "stream",
     "text": [
      "GD Overtraining:  30%|███       | 300430/1000000 [01:21<03:05, 3774.89it/s]"
     ]
    },
    {
     "name": "stdout",
     "output_type": "stream",
     "text": [
      "GD Эпоха 300000: loss = 0.3155\n"
     ]
    },
    {
     "name": "stderr",
     "output_type": "stream",
     "text": [
      "GD Overtraining:  35%|███▌      | 350670/1000000 [01:34<02:52, 3764.41it/s]"
     ]
    },
    {
     "name": "stdout",
     "output_type": "stream",
     "text": [
      "GD Эпоха 350000: loss = 0.2987\n"
     ]
    },
    {
     "name": "stderr",
     "output_type": "stream",
     "text": [
      "GD Overtraining:  40%|████      | 400718/1000000 [01:48<02:37, 3802.00it/s]"
     ]
    },
    {
     "name": "stdout",
     "output_type": "stream",
     "text": [
      "GD Эпоха 400000: loss = 0.2845\n"
     ]
    },
    {
     "name": "stderr",
     "output_type": "stream",
     "text": [
      "GD Overtraining:  45%|████▌     | 450645/1000000 [02:02<02:24, 3813.24it/s]"
     ]
    },
    {
     "name": "stdout",
     "output_type": "stream",
     "text": [
      "GD Эпоха 450000: loss = 0.2719\n"
     ]
    },
    {
     "name": "stderr",
     "output_type": "stream",
     "text": [
      "GD Overtraining:  50%|█████     | 500547/1000000 [02:16<02:16, 3652.51it/s]"
     ]
    },
    {
     "name": "stdout",
     "output_type": "stream",
     "text": [
      "GD Эпоха 500000: loss = 0.2604\n"
     ]
    },
    {
     "name": "stderr",
     "output_type": "stream",
     "text": [
      "GD Overtraining:  55%|█████▌    | 550607/1000000 [02:30<01:57, 3811.24it/s]"
     ]
    },
    {
     "name": "stdout",
     "output_type": "stream",
     "text": [
      "GD Эпоха 550000: loss = 0.2497\n"
     ]
    },
    {
     "name": "stderr",
     "output_type": "stream",
     "text": [
      "GD Overtraining:  60%|██████    | 600548/1000000 [02:43<01:48, 3666.18it/s]"
     ]
    },
    {
     "name": "stdout",
     "output_type": "stream",
     "text": [
      "GD Эпоха 600000: loss = 0.2400\n"
     ]
    },
    {
     "name": "stderr",
     "output_type": "stream",
     "text": [
      "GD Overtraining:  65%|██████▌   | 650463/1000000 [02:56<01:34, 3687.62it/s]"
     ]
    },
    {
     "name": "stdout",
     "output_type": "stream",
     "text": [
      "GD Эпоха 650000: loss = 0.2315\n"
     ]
    },
    {
     "name": "stderr",
     "output_type": "stream",
     "text": [
      "GD Overtraining:  70%|███████   | 700406/1000000 [03:10<01:18, 3821.64it/s]"
     ]
    },
    {
     "name": "stdout",
     "output_type": "stream",
     "text": [
      "GD Эпоха 700000: loss = 0.2240\n"
     ]
    },
    {
     "name": "stderr",
     "output_type": "stream",
     "text": [
      "GD Overtraining:  75%|███████▌  | 750306/1000000 [03:23<01:10, 3544.58it/s]"
     ]
    },
    {
     "name": "stdout",
     "output_type": "stream",
     "text": [
      "GD Эпоха 750000: loss = 0.2171\n"
     ]
    },
    {
     "name": "stderr",
     "output_type": "stream",
     "text": [
      "GD Overtraining:  80%|████████  | 800396/1000000 [03:37<00:59, 3339.81it/s]"
     ]
    },
    {
     "name": "stdout",
     "output_type": "stream",
     "text": [
      "GD Эпоха 800000: loss = 0.2106\n"
     ]
    },
    {
     "name": "stderr",
     "output_type": "stream",
     "text": [
      "GD Overtraining:  85%|████████▌ | 850719/1000000 [03:51<00:38, 3828.45it/s]"
     ]
    },
    {
     "name": "stdout",
     "output_type": "stream",
     "text": [
      "GD Эпоха 850000: loss = 0.2047\n"
     ]
    },
    {
     "name": "stderr",
     "output_type": "stream",
     "text": [
      "GD Overtraining:  90%|█████████ | 900546/1000000 [04:04<00:25, 3847.13it/s]"
     ]
    },
    {
     "name": "stdout",
     "output_type": "stream",
     "text": [
      "GD Эпоха 900000: loss = 0.1992\n"
     ]
    },
    {
     "name": "stderr",
     "output_type": "stream",
     "text": [
      "GD Overtraining:  95%|█████████▌| 950781/1000000 [04:17<00:12, 3868.29it/s]"
     ]
    },
    {
     "name": "stdout",
     "output_type": "stream",
     "text": [
      "GD Эпоха 950000: loss = 0.1942\n"
     ]
    },
    {
     "name": "stderr",
     "output_type": "stream",
     "text": [
      "GD Overtraining: 100%|██████████| 1000000/1000000 [04:30<00:00, 3691.48it/s]"
     ]
    },
    {
     "name": "stdout",
     "output_type": "stream",
     "text": [
      "GD Эпоха 1000000: loss = 0.1895\n",
      "✅ GD завершен. Финальный loss: 0.1895\n"
     ]
    },
    {
     "name": "stderr",
     "output_type": "stream",
     "text": [
      "\n"
     ]
    }
   ],
   "source": [
    "# Этап 1: GD переобучение (1000 эпох)\n",
    "model.train()\n",
    "optimizer_gd = torch.optim.SGD(model.parameters(), lr=LR)\n",
    "\n",
    "print(\"🚀 Этап 1: GD переобучение...\")\n",
    "\n",
    "for epoch in tqdm(range(GD_EPOCHS), desc=\"GD Overtraining\"):\n",
    "    optimizer_gd.zero_grad()\n",
    "    outputs = model(full_batch_images)\n",
    "    loss = criterion(outputs, full_batch_labels)\n",
    "    loss.backward()\n",
    "    optimizer_gd.step()\n",
    "    \n",
    "    if (epoch + 1) % 50000 == 0:\n",
    "        print(f\"GD Эпоха {epoch+1}: loss = {loss.item():.4f}\")\n",
    "\n",
    "print(f\"✅ GD завершен. Финальный loss: {loss.item():.4f}\")"
   ]
  },
  {
   "cell_type": "code",
   "execution_count": 6,
   "metadata": {},
   "outputs": [
    {
     "name": "stdout",
     "output_type": "stream",
     "text": [
      "\n",
      "🚀 Этап 2: SGD с отслеживанием истории...\n"
     ]
    },
    {
     "name": "stderr",
     "output_type": "stream",
     "text": [
      "SGD Training:  40%|████      | 4/10 [00:00<00:00, 34.70it/s]"
     ]
    },
    {
     "name": "stdout",
     "output_type": "stream",
     "text": [
      "Эпоха 1: средний loss = 0.2367\n",
      "Эпоха 2: средний loss = 0.2326\n",
      "Эпоха 3: средний loss = 0.2330\n",
      "Эпоха 4: средний loss = 0.2188\n",
      "Эпоха 5: средний loss = 0.2372\n",
      "Эпоха 6: средний loss = 0.2349\n",
      "Эпоха 7: средний loss = 0.2362\n",
      "Эпоха 8: средний loss = 0.2354\n"
     ]
    },
    {
     "name": "stderr",
     "output_type": "stream",
     "text": [
      "SGD Training: 100%|██████████| 10/10 [00:00<00:00, 40.88it/s]"
     ]
    },
    {
     "name": "stdout",
     "output_type": "stream",
     "text": [
      "Эпоха 9: средний loss = 0.2346\n",
      "Эпоха 10: средний loss = 0.2390\n",
      "\n",
      "Сохранено 151 состояний параметров\n",
      "\n",
      "📊 Изменения параметров после SGD:\n",
      "Максимальное: 0.012728\n",
      "Среднее: 0.001536\n",
      "Изменились: ✅ ДА\n"
     ]
    },
    {
     "name": "stderr",
     "output_type": "stream",
     "text": [
      "\n"
     ]
    }
   ],
   "source": [
    "# Этап 2: SGD с отслеживанием истории весов\n",
    "model.train()\n",
    "optimizer_sgd = torch.optim.SGD(model.parameters(), lr=LR)\n",
    "param_history = []\n",
    "losses = []\n",
    "\n",
    "# Сохраняем начальное состояние (после GD)\n",
    "initial_params = vectorize_model(model)\n",
    "param_history.append(initial_params.copy())\n",
    "\n",
    "print(\"\\n🚀 Этап 2: SGD с отслеживанием истории...\")\n",
    "\n",
    "for epoch in tqdm(range(SGD_EPOCHS), desc=\"SGD Training\"):\n",
    "    epoch_losses = []\n",
    "    \n",
    "    for batch_idx, (images, labels) in enumerate(train_loader):\n",
    "        images, labels = images.to(DEVICE), labels.to(DEVICE)\n",
    "        \n",
    "        optimizer_sgd.zero_grad()\n",
    "        outputs = model(images)\n",
    "        loss = criterion(outputs, labels)\n",
    "        loss.backward()\n",
    "        optimizer_sgd.step()\n",
    "        \n",
    "        # Сохраняем параметры после каждого батча\n",
    "        param_history.append(vectorize_model(model))\n",
    "        epoch_losses.append(loss.item())\n",
    "    \n",
    "    losses.extend(epoch_losses)\n",
    "    print(f\"Эпоха {epoch+1}: средний loss = {np.mean(epoch_losses):.4f}\")\n",
    "\n",
    "print(f\"\\nСохранено {len(param_history)} состояний параметров\")\n",
    "\n",
    "# Проверка изменений\n",
    "final_params = param_history[-1]\n",
    "changes = check_param_changes(initial_params, final_params)\n",
    "print(f\"\\n📊 Изменения параметров после SGD:\")\n",
    "print(f\"Максимальное: {changes['max_change']:.6f}\")\n",
    "print(f\"Среднее: {changes['mean_change']:.6f}\")\n",
    "print(f\"Изменились: {'✅ ДА' if changes['changed'] else '❌ НЕТ'}\")"
   ]
  },
  {
   "cell_type": "code",
   "execution_count": 7,
   "metadata": {},
   "outputs": [
    {
     "name": "stdout",
     "output_type": "stream",
     "text": [
      "Всего параметров: 386\n",
      "Дисперсии от 0.00000000 до 0.00001352\n",
      "Средняя дисперсия: 0.00000073\n",
      "Параметров с дисперсией < 1e-12: 1\n"
     ]
    }
   ],
   "source": [
    "# Вычисляем дисперсию каждого веса вдоль траектории\n",
    "param_history = np.array(param_history)\n",
    "n_params = param_history.shape[1]\n",
    "\n",
    "# Дисперсия каждого параметра по времени\n",
    "param_variances = np.var(param_history, axis=0)\n",
    "\n",
    "print(f\"Всего параметров: {n_params}\")\n",
    "print(f\"Дисперсии от {param_variances.min():.8f} до {param_variances.max():.8f}\")\n",
    "print(f\"Средняя дисперсия: {param_variances.mean():.8f}\")\n",
    "print(f\"Параметров с дисперсией < 1e-12: {(param_variances < 1e-12).sum()}\")"
   ]
  },
  {
   "cell_type": "code",
   "execution_count": 8,
   "metadata": {},
   "outputs": [
    {
     "data": {
      "text/plain": [
       "np.float32(1.3319351e-08)"
      ]
     },
     "execution_count": 8,
     "metadata": {},
     "output_type": "execute_result"
    }
   ],
   "source": [
    "np.min((param_history.T - param_history.mean(axis=1))**2)"
   ]
  },
  {
   "cell_type": "code",
   "execution_count": 9,
   "metadata": {},
   "outputs": [
    {
     "data": {
      "text/plain": [
       "[<matplotlib.lines.Line2D at 0x12e282790>]"
      ]
     },
     "execution_count": 9,
     "metadata": {},
     "output_type": "execute_result"
    },
    {
     "data": {
      "image/png": "[encoded data removed]",
      "text/plain": [
       "<Figure size 640x480 with 1 Axes>"
      ]
     },
     "metadata": {},
     "output_type": "display_data"
    }
   ],
   "source": [
    "plt.plot(np.sum(param_history - param_history[0], axis = 0))"
   ]
  },
  {
   "cell_type": "code",
   "execution_count": 10,
   "metadata": {},
   "outputs": [
    {
     "data": {
      "text/plain": [
       "array([], shape=(0, 1), dtype=int64)"
      ]
     },
     "execution_count": 10,
     "metadata": {},
     "output_type": "execute_result"
    }
   ],
   "source": [
    "np.argwhere(param_variances < 10**(-8) * param_variances.mean())"
   ]
  },
  {
   "cell_type": "code",
   "execution_count": 11,
   "metadata": {},
   "outputs": [
    {
     "data": {
      "text/plain": [
       "[<matplotlib.lines.Line2D at 0x12e43f290>]"
      ]
     },
     "execution_count": 11,
     "metadata": {},
     "output_type": "execute_result"
    },
    {
     "data": {
      "image/png": "[encoded data removed]",
      "text/plain": [
       "<Figure size 640x480 with 1 Axes>"
      ]
     },
     "metadata": {},
     "output_type": "display_data"
    }
   ],
   "source": [
    "plt.loglog(param_variances)"
   ]
  },
  {
   "cell_type": "code",
   "execution_count": 69,
   "metadata": {},
   "outputs": [
    {
     "name": "stdout",
     "output_type": "stream",
     "text": [
      "model.0.weight torch.Size([288])\n",
      "model.0.bias torch.Size([8])\n",
      "model.2.weight torch.Size([80])\n",
      "model.2.bias torch.Size([10])\n"
     ]
    }
   ],
   "source": [
    "params = []\n",
    "for name, p in model.named_parameters():\n",
    "    print( name, p.data.view(-1).shape)"
   ]
  },
  {
   "cell_type": "code",
   "execution_count": 77,
   "metadata": {},
   "outputs": [
    {
     "name": "stdout",
     "output_type": "stream",
     "text": [
      "Загружаем ../scripts/data/checkpoints/exp20/params_lr0.001.pkl...\n",
      "  ✅ lr=0.001: (1020, 386) (итераций × параметров)\n",
      "Загружаем ../scripts/data/checkpoints/exp20/params_lr0.01.pkl...\n",
      "  ✅ lr=0.01: (1020, 386) (итераций × параметров)\n",
      "Загружаем ../scripts/data/checkpoints/exp20/params_lr0.1.pkl...\n",
      "  ✅ lr=0.1: (1020, 386) (итераций × параметров)\n",
      "Загружаем ../scripts/data/checkpoints/exp20/params_lr0.5.pkl...\n",
      "  ✅ lr=0.5: (1020, 386) (итераций × параметров)\n",
      "\n",
      "Загружено 4 наборов параметров\n",
      "Общее количество параметров: 386\n"
     ]
    }
   ],
   "source": [
    "import pickle\n",
    "# Пути к данным\n",
    "exp_dir = '../scripts/data/checkpoints/exp20'\n",
    "learning_rates = [0.001, 0.01, 0.1, 0.5]\n",
    "\n",
    "# Загружаем параметры для всех lr\n",
    "all_params = {}\n",
    "for lr in learning_rates:\n",
    "    params_path = os.path.join(exp_dir, f'params_lr{lr}.pkl')\n",
    "    print(f'Загружаем {params_path}...')\n",
    "    \n",
    "    if os.path.exists(params_path):\n",
    "        with open(params_path, 'rb') as f:\n",
    "            params = pickle.load(f)\n",
    "        all_params[lr] = params\n",
    "        print(f'  ✅ lr={lr}: {params.shape} (итераций × параметров)')\n",
    "    else:\n",
    "        print(f'  ❌ Файл не найден: {params_path}')\n",
    "\n",
    "print(f'\\nЗагружено {len(all_params)} наборов параметров')\n",
    "\n",
    "# Определяем размеры для слайсов\n",
    "if all_params:\n",
    "    total_params = list(all_params.values())[0].shape[1]\n",
    "    print(f'Общее количество параметров: {total_params}')"
   ]
  },
  {
   "cell_type": "code",
   "execution_count": 80,
   "metadata": {},
   "outputs": [
    {
     "data": {
      "text/plain": [
       "(1020, 386)"
      ]
     },
     "execution_count": 80,
     "metadata": {},
     "output_type": "execute_result"
    }
   ],
   "source": [
    "p = all_params[0.01]\n",
    "p.shape"
   ]
  },
  {
   "cell_type": "code",
   "execution_count": null,
   "metadata": {},
   "outputs": [
    {
     "data": {
      "text/plain": [
       "np.float32(0.0)"
      ]
     },
     "execution_count": 93,
     "metadata": {},
     "output_type": "execute_result"
    }
   ],
   "source": [
    "d"
   ]
  },
  {
   "cell_type": "code",
   "execution_count": 91,
   "metadata": {},
   "outputs": [
    {
     "data": {
      "text/plain": [
       "np.float32(0.11718037)"
      ]
     },
     "execution_count": 91,
     "metadata": {},
     "output_type": "execute_result"
    }
   ],
   "source": [
    "p[5][175]"
   ]
  },
  {
   "cell_type": "code",
   "execution_count": 88,
   "metadata": {},
   "outputs": [],
   "source": [
    "std_p = p.std(axis=0)"
   ]
  },
  {
   "cell_type": "code",
   "execution_count": 89,
   "metadata": {},
   "outputs": [
    {
     "data": {
      "text/plain": [
       "[<matplotlib.lines.Line2D at 0x14e1dc610>]"
      ]
     },
     "execution_count": 89,
     "metadata": {},
     "output_type": "execute_result"
    },
    {
     "data": {
      "image/png": "[encoded data removed]",
      "text/plain": [
       "<Figure size 640x480 with 1 Axes>"
      ]
     },
     "metadata": {},
     "output_type": "display_data"
    }
   ],
   "source": [
    "plt.loglog(std_p)"
   ]
  },
  {
   "cell_type": "code",
   "execution_count": null,
   "metadata": {},
   "outputs": [],
   "source": []
  }
 ],
 "metadata": {
  "kernelspec": {
   "display_name": "SGDiffusion (3.11.6)",
   "language": "python",
   "name": "python3"
  },
  "language_info": {
   "codemirror_mode": {
    "name": "ipython",
    "version": 3
   },
   "file_extension": ".py",
   "name": "python",
   "nbconvert_exporter": "python",
   "pygments_lexer": "ipython3",
   "version": "3.11.6"
  }
 },
 "nbformat": 4,
 "nbformat_minor": 4
}
